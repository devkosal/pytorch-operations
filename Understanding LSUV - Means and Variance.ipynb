{
 "cells": [
  {
   "cell_type": "code",
   "execution_count": 1,
   "metadata": {
    "ExecuteTime": {
     "end_time": "2019-11-22T19:26:53.577203Z",
     "start_time": "2019-11-22T19:26:53.356590Z"
    }
   },
   "outputs": [],
   "source": [
    "import torch"
   ]
  },
  {
   "cell_type": "code",
   "execution_count": 41,
   "metadata": {
    "ExecuteTime": {
     "end_time": "2019-11-22T20:10:48.527776Z",
     "start_time": "2019-11-22T20:10:48.522636Z"
    }
   },
   "outputs": [],
   "source": [
    "x = torch.tensor([[1.,2,3,4],\n",
    "                [5,6,7,8]])"
   ]
  },
  {
   "cell_type": "code",
   "execution_count": 47,
   "metadata": {
    "ExecuteTime": {
     "end_time": "2019-11-22T20:11:03.070159Z",
     "start_time": "2019-11-22T20:11:03.060105Z"
    }
   },
   "outputs": [
    {
     "data": {
      "text/plain": [
       "(torch.Size([2, 4]),\n",
       " tensor([[ 1.0000e+00,  8.0000e+00,  1.0000e+02, -1.0000e+01],\n",
       "         [ 5.0000e+00,  6.0000e+10,  7.0000e+00,  8.0000e+00]]))"
      ]
     },
     "execution_count": 47,
     "metadata": {},
     "output_type": "execute_result"
    }
   ],
   "source": [
    "x.shape,x"
   ]
  },
  {
   "cell_type": "code",
   "execution_count": 89,
   "metadata": {
    "ExecuteTime": {
     "end_time": "2019-11-22T20:26:15.477880Z",
     "start_time": "2019-11-22T20:26:15.471150Z"
    }
   },
   "outputs": [],
   "source": [
    "x = torch.tensor([[1.,8,100,-10],\n",
    "                [5,600000,7,8]])"
   ]
  },
  {
   "cell_type": "code",
   "execution_count": 90,
   "metadata": {
    "ExecuteTime": {
     "end_time": "2019-11-22T20:26:15.490882Z",
     "start_time": "2019-11-22T20:26:15.481775Z"
    }
   },
   "outputs": [
    {
     "data": {
      "text/plain": [
       "tensor([[ 1.0000e+00,  8.0000e+00,  1.0000e+02, -1.0000e+01],\n",
       "        [ 5.0000e+00,  6.0000e+05,  7.0000e+00,  8.0000e+00]])"
      ]
     },
     "execution_count": 90,
     "metadata": {},
     "output_type": "execute_result"
    }
   ],
   "source": [
    "x"
   ]
  },
  {
   "cell_type": "code",
   "execution_count": 91,
   "metadata": {
    "ExecuteTime": {
     "end_time": "2019-11-22T20:26:16.095525Z",
     "start_time": "2019-11-22T20:26:16.084693Z"
    }
   },
   "outputs": [
    {
     "data": {
      "text/plain": [
       "tensor(75014.8750)"
      ]
     },
     "execution_count": 91,
     "metadata": {},
     "output_type": "execute_result"
    }
   ],
   "source": [
    "m = x.mean(); m"
   ]
  },
  {
   "cell_type": "code",
   "execution_count": 92,
   "metadata": {
    "ExecuteTime": {
     "end_time": "2019-11-22T20:26:17.940691Z",
     "start_time": "2019-11-22T20:26:17.928701Z"
    }
   },
   "outputs": [
    {
     "name": "stdout",
     "output_type": "stream",
     "text": [
      "tensor(75014.8750)\n",
      "tensor([[ 1.0000e+00,  8.0000e+00,  1.0000e+02, -1.0000e+01],\n",
      "        [ 5.0000e+00,  6.0000e+05,  7.0000e+00,  8.0000e+00]])\n",
      "tensor(0.)\n",
      "tensor([[-75013.8750, -75006.8750, -74914.8750, -75024.8750],\n",
      "        [-75009.8750, 524985.1250, -75007.8750, -75006.8750]])\n"
     ]
    }
   ],
   "source": []
  },
  {
   "cell_type": "code",
   "execution_count": 67,
   "metadata": {
    "ExecuteTime": {
     "end_time": "2019-11-22T20:20:44.256300Z",
     "start_time": "2019-11-22T20:20:44.252772Z"
    }
   },
   "outputs": [
    {
     "data": {
      "text/plain": [
       "tensor([[-7.5000e+09, -7.5000e+09, -7.5000e+09, -7.5000e+09],\n",
       "        [-7.5000e+09,  5.2500e+10, -7.5000e+09, -7.5000e+09]])"
      ]
     },
     "execution_count": 67,
     "metadata": {},
     "output_type": "execute_result"
    }
   ],
   "source": [
    "(x-x.mean())"
   ]
  },
  {
   "cell_type": "code",
   "execution_count": 50,
   "metadata": {
    "ExecuteTime": {
     "end_time": "2019-11-22T20:11:07.569802Z",
     "start_time": "2019-11-22T20:11:07.563886Z"
    }
   },
   "outputs": [
    {
     "data": {
      "text/plain": [
       "tensor(-256.)"
      ]
     },
     "execution_count": 50,
     "metadata": {},
     "output_type": "execute_result"
    }
   ],
   "source": [
    "((x-x.mean())).mean()"
   ]
  },
  {
   "cell_type": "code",
   "execution_count": 82,
   "metadata": {
    "ExecuteTime": {
     "end_time": "2019-11-22T20:24:44.295554Z",
     "start_time": "2019-11-22T20:24:44.290372Z"
    }
   },
   "outputs": [],
   "source": [
    "y = torch.tensor([[-7500014., -7500007., -7499915., -7500025.],\n",
    "        [-7500010., 52499984., -7500008., -7500007.]])"
   ]
  },
  {
   "cell_type": "code",
   "execution_count": null,
   "metadata": {},
   "outputs": [],
   "source": []
  }
 ],
 "metadata": {
  "kernelspec": {
   "display_name": "Python 3",
   "language": "python",
   "name": "python3"
  },
  "language_info": {
   "codemirror_mode": {
    "name": "ipython",
    "version": 3
   },
   "file_extension": ".py",
   "mimetype": "text/x-python",
   "name": "python",
   "nbconvert_exporter": "python",
   "pygments_lexer": "ipython3",
   "version": "3.7.5"
  }
 },
 "nbformat": 4,
 "nbformat_minor": 2
}

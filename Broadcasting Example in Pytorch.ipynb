{
 "cells": [
  {
   "cell_type": "code",
   "execution_count": 1,
   "metadata": {
    "ExecuteTime": {
     "end_time": "2019-11-22T14:28:50.137931Z",
     "start_time": "2019-11-22T14:28:49.924189Z"
    }
   },
   "outputs": [],
   "source": [
    "import torch"
   ]
  },
  {
   "cell_type": "code",
   "execution_count": 2,
   "metadata": {
    "ExecuteTime": {
     "end_time": "2019-11-22T14:28:50.141802Z",
     "start_time": "2019-11-22T14:28:50.139256Z"
    }
   },
   "outputs": [],
   "source": [
    "x = torch.tensor([\n",
    "     [1, 2, 3],\n",
    "     [4, 5, 6]\n",
    "   ])"
   ]
  },
  {
   "cell_type": "code",
   "execution_count": 3,
   "metadata": {
    "ExecuteTime": {
     "end_time": "2019-11-22T14:28:50.153485Z",
     "start_time": "2019-11-22T14:28:50.143723Z"
    }
   },
   "outputs": [],
   "source": [
    "y = torch.tensor([\n",
    "     [\n",
    "       [1, 2, 3],\n",
    "       [4, 5, 6]\n",
    "     ],\n",
    "     [\n",
    "       [1, 2, 3],\n",
    "       [4, 5, 6]\n",
    "     ],\n",
    "     [\n",
    "       [1, 2, 3],\n",
    "       [4, 5, 6]\n",
    "     ]\n",
    "   ])"
   ]
  },
  {
   "cell_type": "code",
   "execution_count": 4,
   "metadata": {
    "ExecuteTime": {
     "end_time": "2019-11-22T14:28:50.164369Z",
     "start_time": "2019-11-22T14:28:50.154982Z"
    }
   },
   "outputs": [
    {
     "data": {
      "text/plain": [
       "tensor([[[[1, 2, 3],\n",
       "          [4, 5, 6]],\n",
       "\n",
       "         [[1, 2, 3],\n",
       "          [4, 5, 6]],\n",
       "\n",
       "         [[1, 2, 3],\n",
       "          [4, 5, 6]]],\n",
       "\n",
       "\n",
       "        [[[1, 2, 3],\n",
       "          [4, 5, 6]],\n",
       "\n",
       "         [[1, 2, 3],\n",
       "          [4, 5, 6]],\n",
       "\n",
       "         [[1, 2, 3],\n",
       "          [4, 5, 6]]]])"
      ]
     },
     "execution_count": 4,
     "metadata": {},
     "output_type": "execute_result"
    }
   ],
   "source": [
    "z = y.expand((2,3,2,3)); z"
   ]
  },
  {
   "cell_type": "markdown",
   "metadata": {},
   "source": [
    "> Multiply each column by a different number"
   ]
  },
  {
   "cell_type": "code",
   "execution_count": 5,
   "metadata": {
    "ExecuteTime": {
     "end_time": "2019-11-22T14:28:50.171512Z",
     "start_time": "2019-11-22T14:28:50.165638Z"
    },
    "scrolled": true
   },
   "outputs": [
    {
     "name": "stdout",
     "output_type": "stream",
     "text": [
      "torch.Size([1, 1, 1, 3])\n"
     ]
    },
    {
     "data": {
      "text/plain": [
       "tensor([[[[2., 3., 4.]]]])"
      ]
     },
     "execution_count": 5,
     "metadata": {},
     "output_type": "execute_result"
    }
   ],
   "source": [
    "o = torch.ones(1,1,1,3).float()\n",
    "# print(o)\n",
    "print(o.shape)\n",
    "o = o*torch.tensor([[2,3,4]]).float(); o"
   ]
  },
  {
   "cell_type": "code",
   "execution_count": 6,
   "metadata": {
    "ExecuteTime": {
     "end_time": "2019-11-22T14:28:50.176477Z",
     "start_time": "2019-11-22T14:28:50.172687Z"
    }
   },
   "outputs": [
    {
     "data": {
      "text/plain": [
       "tensor([[[[1., 2., 3.],\n",
       "          [4., 5., 6.]],\n",
       "\n",
       "         [[1., 2., 3.],\n",
       "          [4., 5., 6.]],\n",
       "\n",
       "         [[1., 2., 3.],\n",
       "          [4., 5., 6.]]],\n",
       "\n",
       "\n",
       "        [[[1., 2., 3.],\n",
       "          [4., 5., 6.]],\n",
       "\n",
       "         [[1., 2., 3.],\n",
       "          [4., 5., 6.]],\n",
       "\n",
       "         [[1., 2., 3.],\n",
       "          [4., 5., 6.]]]])"
      ]
     },
     "execution_count": 6,
     "metadata": {},
     "output_type": "execute_result"
    }
   ],
   "source": [
    "z.float()"
   ]
  },
  {
   "cell_type": "code",
   "execution_count": 7,
   "metadata": {
    "ExecuteTime": {
     "end_time": "2019-11-22T14:28:50.185940Z",
     "start_time": "2019-11-22T14:28:50.177511Z"
    }
   },
   "outputs": [
    {
     "data": {
      "text/plain": [
       "tensor([[[[ 2.,  6., 12.],\n",
       "          [ 8., 15., 24.]],\n",
       "\n",
       "         [[ 2.,  6., 12.],\n",
       "          [ 8., 15., 24.]],\n",
       "\n",
       "         [[ 2.,  6., 12.],\n",
       "          [ 8., 15., 24.]]],\n",
       "\n",
       "\n",
       "        [[[ 2.,  6., 12.],\n",
       "          [ 8., 15., 24.]],\n",
       "\n",
       "         [[ 2.,  6., 12.],\n",
       "          [ 8., 15., 24.]],\n",
       "\n",
       "         [[ 2.,  6., 12.],\n",
       "          [ 8., 15., 24.]]]])"
      ]
     },
     "execution_count": 7,
     "metadata": {},
     "output_type": "execute_result"
    }
   ],
   "source": [
    "z.float()*o"
   ]
  },
  {
   "cell_type": "code",
   "execution_count": 8,
   "metadata": {
    "ExecuteTime": {
     "end_time": "2019-11-22T14:28:50.194455Z",
     "start_time": "2019-11-22T14:28:50.186963Z"
    }
   },
   "outputs": [
    {
     "data": {
      "text/plain": [
       "torch.Size([2, 3, 2, 3])"
      ]
     },
     "execution_count": 8,
     "metadata": {},
     "output_type": "execute_result"
    }
   ],
   "source": [
    "z.shape"
   ]
  },
  {
   "cell_type": "markdown",
   "metadata": {},
   "source": [
    "> Multiply each set of matrices (dim 0) by a different number"
   ]
  },
  {
   "cell_type": "code",
   "execution_count": 9,
   "metadata": {
    "ExecuteTime": {
     "end_time": "2019-11-22T14:28:50.203884Z",
     "start_time": "2019-11-22T14:28:50.196030Z"
    }
   },
   "outputs": [
    {
     "data": {
      "text/plain": [
       "tensor([[[[1, 2, 3],\n",
       "          [4, 5, 6]],\n",
       "\n",
       "         [[1, 2, 3],\n",
       "          [4, 5, 6]],\n",
       "\n",
       "         [[1, 2, 3],\n",
       "          [4, 5, 6]]],\n",
       "\n",
       "\n",
       "        [[[1, 2, 3],\n",
       "          [4, 5, 6]],\n",
       "\n",
       "         [[1, 2, 3],\n",
       "          [4, 5, 6]],\n",
       "\n",
       "         [[1, 2, 3],\n",
       "          [4, 5, 6]]]])"
      ]
     },
     "execution_count": 9,
     "metadata": {},
     "output_type": "execute_result"
    }
   ],
   "source": [
    "z"
   ]
  },
  {
   "cell_type": "code",
   "execution_count": 10,
   "metadata": {
    "ExecuteTime": {
     "end_time": "2019-11-22T14:28:50.213249Z",
     "start_time": "2019-11-22T14:28:50.205107Z"
    }
   },
   "outputs": [
    {
     "data": {
      "text/plain": [
       "(tensor([[[[1.]]],\n",
       " \n",
       " \n",
       "         [[[2.]]]]), torch.Size([2, 1, 1, 1]))"
      ]
     },
     "execution_count": 10,
     "metadata": {},
     "output_type": "execute_result"
    }
   ],
   "source": [
    "t =torch.tensor([[1],[2]]).float().unsqueeze(-1).unsqueeze(-1)\n",
    "t,t.shape"
   ]
  },
  {
   "cell_type": "code",
   "execution_count": 11,
   "metadata": {
    "ExecuteTime": {
     "end_time": "2019-11-22T14:28:50.222793Z",
     "start_time": "2019-11-22T14:28:50.214225Z"
    }
   },
   "outputs": [
    {
     "data": {
      "text/plain": [
       "(torch.Size([2, 3, 2, 3]), tensor([[[[ 1.,  2.,  3.],\n",
       "           [ 4.,  5.,  6.]],\n",
       " \n",
       "          [[ 1.,  2.,  3.],\n",
       "           [ 4.,  5.,  6.]],\n",
       " \n",
       "          [[ 1.,  2.,  3.],\n",
       "           [ 4.,  5.,  6.]]],\n",
       " \n",
       " \n",
       "         [[[ 2.,  4.,  6.],\n",
       "           [ 8., 10., 12.]],\n",
       " \n",
       "          [[ 2.,  4.,  6.],\n",
       "           [ 8., 10., 12.]],\n",
       " \n",
       "          [[ 2.,  4.,  6.],\n",
       "           [ 8., 10., 12.]]]]))"
      ]
     },
     "execution_count": 11,
     "metadata": {},
     "output_type": "execute_result"
    }
   ],
   "source": [
    "z.shape,z.float()*t"
   ]
  },
  {
   "cell_type": "markdown",
   "metadata": {},
   "source": [
    "## Example 3"
   ]
  },
  {
   "cell_type": "code",
   "execution_count": 12,
   "metadata": {
    "ExecuteTime": {
     "end_time": "2019-11-22T14:28:50.231438Z",
     "start_time": "2019-11-22T14:28:50.223866Z"
    }
   },
   "outputs": [
    {
     "data": {
      "text/plain": [
       "(torch.Size([2, 3, 2, 3]), tensor([[[[1, 2, 3],\n",
       "           [4, 5, 6]],\n",
       " \n",
       "          [[1, 2, 3],\n",
       "           [4, 5, 6]],\n",
       " \n",
       "          [[1, 2, 3],\n",
       "           [4, 5, 6]]],\n",
       " \n",
       " \n",
       "         [[[1, 2, 3],\n",
       "           [4, 5, 6]],\n",
       " \n",
       "          [[1, 2, 3],\n",
       "           [4, 5, 6]],\n",
       " \n",
       "          [[1, 2, 3],\n",
       "           [4, 5, 6]]]]))"
      ]
     },
     "execution_count": 12,
     "metadata": {},
     "output_type": "execute_result"
    }
   ],
   "source": [
    "z.shape, z"
   ]
  },
  {
   "cell_type": "code",
   "execution_count": 14,
   "metadata": {
    "ExecuteTime": {
     "end_time": "2019-11-22T14:28:55.457440Z",
     "start_time": "2019-11-22T14:28:55.448312Z"
    }
   },
   "outputs": [
    {
     "name": "stdout",
     "output_type": "stream",
     "text": [
      "tensor([[[[42]],\n",
      "\n",
      "         [[42]],\n",
      "\n",
      "         [[42]]]]) torch.Size([1, 3, 1, 1])\n",
      "torch.Size([3, 1, 1])\n",
      "tensor([[[[ 42]],\n",
      "\n",
      "         [[ 84]],\n",
      "\n",
      "         [[126]]]])\n"
     ]
    }
   ],
   "source": [
    "z2 = z.sum((0,2,3),keepdims=True); print(z2, z2.shape)\n",
    "\n",
    "q = torch.tensor([1,2,3])\n",
    "q = q[...,None,None]; print(q.shape)\n",
    "\n",
    "print(z2*q)"
   ]
  },
  {
   "cell_type": "code",
   "execution_count": null,
   "metadata": {},
   "outputs": [],
   "source": []
  }
 ],
 "metadata": {
  "kernelspec": {
   "display_name": "Python 3",
   "language": "python",
   "name": "python3"
  },
  "language_info": {
   "codemirror_mode": {
    "name": "ipython",
    "version": 3
   },
   "file_extension": ".py",
   "mimetype": "text/x-python",
   "name": "python",
   "nbconvert_exporter": "python",
   "pygments_lexer": "ipython3",
   "version": "3.7.3"
  }
 },
 "nbformat": 4,
 "nbformat_minor": 2
}

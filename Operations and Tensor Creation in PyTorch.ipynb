{
 "cells": [
  {
   "cell_type": "code",
   "execution_count": 2,
   "metadata": {
    "ExecuteTime": {
     "end_time": "2019-11-27T15:13:17.928940Z",
     "start_time": "2019-11-27T15:13:17.704964Z"
    }
   },
   "outputs": [
    {
     "data": {
      "text/plain": [
       "tensor([ 0,  1,  2,  3,  4,  5,  6,  7,  8,  9, 10])"
      ]
     },
     "execution_count": 2,
     "metadata": {},
     "output_type": "execute_result"
    }
   ],
   "source": [
    "import torch\n",
    "x = torch.tensor([0,1,2,3,4,5,6,7,8,9,10])\n",
    "x"
   ]
  },
  {
   "cell_type": "code",
   "execution_count": 2,
   "metadata": {
    "ExecuteTime": {
     "end_time": "2019-11-27T15:01:47.122475Z",
     "start_time": "2019-11-27T15:01:47.119366Z"
    }
   },
   "outputs": [
    {
     "data": {
      "text/plain": [
       "tensor([ 0,  1,  3,  6, 10, 15, 21, 28, 36, 45, 55])"
      ]
     },
     "execution_count": 2,
     "metadata": {},
     "output_type": "execute_result"
    }
   ],
   "source": [
    "torch.cumsum(x,0)"
   ]
  },
  {
   "cell_type": "markdown",
   "metadata": {},
   "source": [
    "add() with multiple args leads to the args being multiplied\n",
    "https://www.youtube.com/watch?v=hPQKzsjTyyQ&t=4678s"
   ]
  },
  {
   "cell_type": "code",
   "execution_count": 3,
   "metadata": {
    "ExecuteTime": {
     "end_time": "2019-11-27T15:01:47.138877Z",
     "start_time": "2019-11-27T15:01:47.123669Z"
    }
   },
   "outputs": [
    {
     "data": {
      "text/plain": [
       "tensor([ 6,  7,  8,  9, 10, 11, 12, 13, 14, 15, 16])"
      ]
     },
     "execution_count": 3,
     "metadata": {},
     "output_type": "execute_result"
    }
   ],
   "source": [
    "x.add(2,3)"
   ]
  },
  {
   "cell_type": "code",
   "execution_count": 4,
   "metadata": {
    "ExecuteTime": {
     "end_time": "2019-11-27T15:01:47.543706Z",
     "start_time": "2019-11-27T15:01:47.534064Z"
    }
   },
   "outputs": [
    {
     "data": {
      "text/plain": [
       "tensor([ 0,  1,  2,  3,  4,  5,  6,  7,  8,  9, 10])"
      ]
     },
     "execution_count": 4,
     "metadata": {},
     "output_type": "execute_result"
    }
   ],
   "source": [
    "x"
   ]
  },
  {
   "cell_type": "markdown",
   "metadata": {},
   "source": [
    "https://pytorch.org/docs/stable/torch.html#torch.addcmul"
   ]
  },
  {
   "cell_type": "code",
   "execution_count": 5,
   "metadata": {
    "ExecuteTime": {
     "end_time": "2019-11-27T15:01:49.770406Z",
     "start_time": "2019-11-27T15:01:49.760506Z"
    }
   },
   "outputs": [
    {
     "data": {
      "text/plain": [
       "tensor([  0,   2,   6,  12,  20,  30,  42,  56,  72,  90, 110])"
      ]
     },
     "execution_count": 5,
     "metadata": {},
     "output_type": "execute_result"
    }
   ],
   "source": [
    "x.addcmul(1,x,x) # x + 1*x*x (args 1 and 2 must be tensors)"
   ]
  },
  {
   "cell_type": "code",
   "execution_count": 8,
   "metadata": {
    "ExecuteTime": {
     "end_time": "2019-11-27T15:02:44.445557Z",
     "start_time": "2019-11-27T15:02:44.441848Z"
    }
   },
   "outputs": [
    {
     "data": {
      "text/plain": [
       "tensor([ 0,  2,  4,  6,  8, 10, 12, 14, 16, 18, 20])"
      ]
     },
     "execution_count": 8,
     "metadata": {},
     "output_type": "execute_result"
    }
   ],
   "source": [
    "x.addcdiv(1,x,torch.ones(len(x)).long()) # x + 1*x/ones (args 1 and 2 must be tensors)"
   ]
  },
  {
   "cell_type": "markdown",
   "metadata": {},
   "source": [
    "### Nonzero"
   ]
  },
  {
   "cell_type": "code",
   "execution_count": 80,
   "metadata": {
    "ExecuteTime": {
     "end_time": "2019-11-26T17:53:20.090133Z",
     "start_time": "2019-11-26T17:53:20.082309Z"
    }
   },
   "outputs": [],
   "source": [
    "x = torch.tensor([True,False,True,False,False,True,True,False, True])"
   ]
  },
  {
   "cell_type": "code",
   "execution_count": 82,
   "metadata": {
    "ExecuteTime": {
     "end_time": "2019-11-26T17:55:19.080762Z",
     "start_time": "2019-11-26T17:55:19.074568Z"
    }
   },
   "outputs": [],
   "source": [
    "x = torch.tensor([False, False,  True])"
   ]
  },
  {
   "cell_type": "code",
   "execution_count": 84,
   "metadata": {
    "ExecuteTime": {
     "end_time": "2019-11-26T17:55:26.047864Z",
     "start_time": "2019-11-26T17:55:26.038698Z"
    }
   },
   "outputs": [
    {
     "data": {
      "text/plain": [
       "tensor([[2]])"
      ]
     },
     "execution_count": 84,
     "metadata": {},
     "output_type": "execute_result"
    }
   ],
   "source": [
    "x.nonzero()"
   ]
  },
  {
   "cell_type": "markdown",
   "metadata": {},
   "source": [
    "# Tensor Generation"
   ]
  },
  {
   "cell_type": "markdown",
   "metadata": {},
   "source": [
    "https://youtu.be/hPQKzsjTyyQ?t=5006"
   ]
  },
  {
   "cell_type": "code",
   "execution_count": 13,
   "metadata": {
    "ExecuteTime": {
     "end_time": "2019-11-27T15:18:42.528599Z",
     "start_time": "2019-11-27T15:18:42.523641Z"
    }
   },
   "outputs": [
    {
     "data": {
      "text/plain": [
       "tensor([-2.1877,  0.3655,  1.5966, -0.5149,  0.2468, -0.3471,  0.4473, -0.3286,\n",
       "        -1.8841, -0.1181])"
      ]
     },
     "execution_count": 13,
     "metadata": {},
     "output_type": "execute_result"
    }
   ],
   "source": [
    "torch.randn(10) # randomly generate 10 normally distributed numbers"
   ]
  },
  {
   "cell_type": "code",
   "execution_count": 3,
   "metadata": {
    "ExecuteTime": {
     "end_time": "2019-11-27T15:13:20.991352Z",
     "start_time": "2019-11-27T15:13:20.982046Z"
    }
   },
   "outputs": [
    {
     "data": {
      "text/plain": [
       "tensor([0, 0, 0, 0, 0, 0, 0, 0, 0, 0, 0])"
      ]
     },
     "execution_count": 3,
     "metadata": {},
     "output_type": "execute_result"
    }
   ],
   "source": [
    "torch.zeros_like(x)"
   ]
  },
  {
   "cell_type": "code",
   "execution_count": 15,
   "metadata": {
    "ExecuteTime": {
     "end_time": "2019-11-27T15:18:48.269334Z",
     "start_time": "2019-11-27T15:18:48.265905Z"
    }
   },
   "outputs": [
    {
     "data": {
      "text/plain": [
       "tensor([-4.0000, -3.5789, -3.1579, -2.7368, -2.3158, -1.8947, -1.4737, -1.0526,\n",
       "        -0.6316, -0.2105,  0.2105,  0.6316,  1.0526,  1.4737,  1.8947,  2.3158,\n",
       "         2.7368,  3.1579,  3.5789,  4.0000])"
      ]
     },
     "execution_count": 15,
     "metadata": {},
     "output_type": "execute_result"
    }
   ],
   "source": [
    "torch.linspace(-4,4,20) # output 20 numbers evenly spaced between -4 and 4 (both start and end are inclusive)"
   ]
  },
  {
   "cell_type": "code",
   "execution_count": null,
   "metadata": {},
   "outputs": [],
   "source": []
  }
 ],
 "metadata": {
  "kernelspec": {
   "display_name": "Python 3",
   "language": "python",
   "name": "python3"
  },
  "language_info": {
   "codemirror_mode": {
    "name": "ipython",
    "version": 3
   },
   "file_extension": ".py",
   "mimetype": "text/x-python",
   "name": "python",
   "nbconvert_exporter": "python",
   "pygments_lexer": "ipython3",
   "version": "3.7.3"
  }
 },
 "nbformat": 4,
 "nbformat_minor": 2
}
